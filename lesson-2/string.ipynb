{
  "nbformat": 4,
  "nbformat_minor": 0,
  "metadata": {
    "colab": {
      "provenance": []
    },
    "kernelspec": {
      "name": "python3",
      "display_name": "Python 3"
    },
    "language_info": {
      "name": "python"
    }
  },
  "cells": [
    {
      "cell_type": "markdown",
      "source": [
        "1.Create a program to ask name and year of birth from user and tell them their age."
      ],
      "metadata": {
        "id": "SJllN2mJ-huh"
      }
    },
    {
      "cell_type": "code",
      "source": [
        "ism = input(\"Ismingizni kiriting: \")\n",
        "yosh = input(\"Yoshingizni kiriting: \")\n",
        "print(f\"{ism}, sizning yoshingiz {yosh}\")\n"
      ],
      "metadata": {
        "id": "MW2WPRLX-tZl"
      },
      "execution_count": null,
      "outputs": []
    },
    {
      "cell_type": "markdown",
      "source": [
        "\\2.Extract car names from this text: txt = 'LMaasleitbtui'\n",
        "\n"
      ],
      "metadata": {
        "id": "PZXwG8pAX0Hl"
      }
    },
    {
      "cell_type": "code",
      "source": [
        "text = \"LMaasleitbtui\"\n",
        "kichik_harflarda = text.lower()\n",
        "\n",
        "harf1 = \"t\"\n",
        "harf2 = \"e\"\n",
        "harf3 = \"s\"\n",
        "harf4 = \"l\"\n",
        "harf5 = \"a\"\n",
        "\n",
        "if harf1 in kichik_harflarda:\n",
        "    print(\"t bor\")\n",
        "if harf2 in kichik_harflarda:\n",
        "    print(\"e bor\")\n",
        "if harf3 in kichik_harflarda:\n",
        "    print(\"s bor\")\n",
        "if harf4 in kichik_harflarda:\n",
        "    print(\"l bor\")\n",
        "if harf5 in kichik_harflarda:\n",
        "    print(\"a bor\")\n",
        "\n"
      ],
      "metadata": {
        "id": "Qhrcjql5YCZb",
        "colab": {
          "base_uri": "https://localhost:8080/"
        },
        "outputId": "1545faf9-f264-403c-df80-1bf6fd27bde4"
      },
      "execution_count": null,
      "outputs": [
        {
          "output_type": "stream",
          "name": "stdout",
          "text": [
            "t bor\n",
            "e bor\n",
            "s bor\n",
            "l bor\n",
            "a bor\n"
          ]
        }
      ]
    },
    {
      "cell_type": "markdown",
      "source": [
        "3.Write a Python program to:\n",
        "\n",
        "Take a string input from the user.\n",
        "Print the length of the string.\n",
        "Convert the string to uppercase and lowercase"
      ],
      "metadata": {
        "id": "M3WhPAt1-gbZ"
      }
    },
    {
      "cell_type": "code",
      "source": [
        "matn=str(input(\"So'z kiriting:\"))\n",
        "print(len(matn))\n",
        "print(matn.lower())\n",
        "print(matn.upper())"
      ],
      "metadata": {
        "id": "8JR1VzptY7Xj"
      },
      "execution_count": null,
      "outputs": []
    },
    {
      "cell_type": "markdown",
      "source": [
        "4. Write a Python program to check if a given string is palindrome or not."
      ],
      "metadata": {
        "id": "WEYdpKC9auK4"
      }
    },
    {
      "cell_type": "code",
      "source": [
        "matn=str(input(\"Soz kiriting:\"))\n",
        "teskari=matn[::-1]\n",
        "    if matn==tekari:\n",
        "      print(\"Palindrome\")\n",
        "      else:\n",
        "        print(\"Palindrone emas\")"
      ],
      "metadata": {
        "id": "QNOgNFrxa_zs"
      },
      "execution_count": null,
      "outputs": []
    },
    {
      "cell_type": "markdown",
      "source": [
        "5.Write a program that counts the number of vowels and consonants in a given string."
      ],
      "metadata": {
        "id": "59dW5KJSeD2z"
      }
    },
    {
      "cell_type": "code",
      "source": [
        "matn=str(input(\"Matn kiriting:\"))\n",
        "unli_harflar=\"aeiou\"\n",
        "matn_lower=matn.lower()\n",
        "    for harf in matn_lower:\n",
        "\n"
      ],
      "metadata": {
        "id": "HqD0cTwqeN86"
      },
      "execution_count": null,
      "outputs": []
    },
    {
      "cell_type": "markdown",
      "source": [
        "6.Write a Python program to check if one string contains another."
      ],
      "metadata": {
        "id": "CA-bLuuDi4OZ"
      }
    },
    {
      "cell_type": "code",
      "source": [
        "matn=str(input(\"gap kiriting:\"))\n",
        "soz=str(input(\"soz kiriting:\"))\n",
        "    if soz in matn:\n",
        "    print(\"bu soz qo'llanilgan\")\n",
        "    else:\n",
        "    print(\"topilmadi\")"
      ],
      "metadata": {
        "id": "LvWQqYdPi9oX"
      },
      "execution_count": null,
      "outputs": []
    },
    {
      "cell_type": "markdown",
      "source": [
        "7.Ask the user to input a sentence and a word to replace. Replace that word with another word provided by the user."
      ],
      "metadata": {
        "id": "IQLKHQQCi-PR"
      }
    },
    {
      "cell_type": "code",
      "source": [
        "matn=str(input(\"gap kiriting:\"))\n",
        "replaced_word=str(input(\"soz kiriting:\"))\n",
        "yangi_soz=str(input(\"yangi soz kiriting:\"))\n",
        "updated_sentence=matn.replace(replaced_word, yangi_soz)\n",
        "print(updated_sentence)"
      ],
      "metadata": {
        "id": "xHUaLfoxjJtD"
      },
      "execution_count": null,
      "outputs": []
    },
    {
      "cell_type": "markdown",
      "source": [
        "8.Write a program that asks the user for a string and prints the first and last characters of the string."
      ],
      "metadata": {
        "id": "zGTby_7GjKVM"
      }
    },
    {
      "cell_type": "code",
      "source": [
        "matn=str(input(\"soz kiriting:\"))\n",
        "print(matn[-1])\n",
        "print(matn[0])"
      ],
      "metadata": {
        "id": "FtOl1N_UjXK_"
      },
      "execution_count": null,
      "outputs": []
    },
    {
      "cell_type": "markdown",
      "source": [
        "9.Ask the user for a string and print the reversed version of it."
      ],
      "metadata": {
        "id": "-2JRww1qjXy-"
      }
    },
    {
      "cell_type": "code",
      "source": [
        "matn=str(input(\"matn kiriting:\"))\n",
        "print(matn[::-1])"
      ],
      "metadata": {
        "id": "pNUNzF6AjeVf"
      },
      "execution_count": null,
      "outputs": []
    },
    {
      "cell_type": "markdown",
      "source": [
        "10.Write a program that asks the user for a sentence and prints the number of words in it.\n",
        "\n",
        "\n"
      ],
      "metadata": {
        "id": "W5t5YTAIuFk_"
      }
    },
    {
      "cell_type": "code",
      "source": [
        "matn=str(input(\"matn kiriting:\"))\n",
        "matn_uzunligi=matn.len()\n",
        "\n"
      ],
      "metadata": {
        "id": "YqGbC_9fncEe"
      },
      "execution_count": null,
      "outputs": []
    }
  ]
}