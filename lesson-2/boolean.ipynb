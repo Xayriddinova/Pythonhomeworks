{
  "nbformat": 4,
  "nbformat_minor": 0,
  "metadata": {
    "colab": {
      "provenance": []
    },
    "kernelspec": {
      "name": "python3",
      "display_name": "Python 3"
    },
    "language_info": {
      "name": "python"
    }
  },
  "cells": [
    {
      "cell_type": "markdown",
      "source": [
        "1.Write a program that accepts a username and password and checks if both are not empty"
      ],
      "metadata": {
        "id": "8lzqYDJDvdLi"
      }
    },
    {
      "cell_type": "code",
      "execution_count": null,
      "metadata": {
        "id": "d0t7fINPvSIm"
      },
      "outputs": [],
      "source": [
        "username=input(\"username kiriting:)\n",
        "password=input(\"password kiritng:\")\n",
        "if username and password:\n",
        "               print(\"to'g'ri\")\n",
        "               else:\n",
        "               print(\"username va passowrdni kiriting\")"
      ]
    },
    {
      "cell_type": "markdown",
      "source": [
        "2.Create a program that checks if two numbers are equal and outputs a message if they are."
      ],
      "metadata": {
        "id": "G3OZAZ_7wudR"
      }
    },
    {
      "cell_type": "code",
      "source": [
        "birinchi_son=float(input(\"birinchi sonni kiriting:\"))\n",
        "ikkinchi_son=float(input(\"ikkinchi sonni kiriting:\"))\n",
        "    if birinchi_son==ikkinchi_son:\n",
        "  print(\"Teng\")\n",
        "  else:\n",
        "    print(\"Teng emas\")"
      ],
      "metadata": {
        "id": "JEuqr4ofxCkj"
      },
      "execution_count": null,
      "outputs": []
    },
    {
      "cell_type": "markdown",
      "source": [
        "3.Write a program that checks if a number is positive and even"
      ],
      "metadata": {
        "id": "OANBFFBdxnPs"
      }
    },
    {
      "cell_type": "code",
      "source": [
        "son = float(input(\"Son kiriting:\"))\n",
        "\n",
        "if son > 0:\n",
        "    print(\"Musbat\")\n",
        "else:\n",
        "    print(\"Manfiy\")\n"
      ],
      "metadata": {
        "id": "pWZIO2CrxucI"
      },
      "execution_count": null,
      "outputs": []
    },
    {
      "cell_type": "markdown",
      "source": [
        "4.Write a program that takes three numbers and checks if all of them are different."
      ],
      "metadata": {
        "id": "0BIqDc8kz62A"
      }
    },
    {
      "cell_type": "code",
      "source": [
        "son1=float(input(\"1-sonni kiriting;\"))\n",
        "son2=float(input(\"2-sonni kiriting:\"))\n",
        "son3=float(input(\"3-sonni kiriting:\"))\n",
        "if son1==son2==son3:\n",
        "  print(\"Sonlar teng\")\n",
        "else:\n",
        "    print(\"Teng emas\")"
      ],
      "metadata": {
        "id": "DzQU178s0BbH"
      },
      "execution_count": null,
      "outputs": []
    },
    {
      "cell_type": "markdown",
      "source": [
        "5.Create a program that accepts two strings and checks if they have the same length."
      ],
      "metadata": {
        "id": "LU6sp6WY3YZW"
      }
    },
    {
      "cell_type": "code",
      "source": [
        "matn1=str(input(\"1-sozni kiriting:\"))\n",
        "matn2=str(input(\"2-sonni kiriting:\"))\n",
        "uzunlik1=matn1.len()\n",
        "uzunlik2=matn2.len()\n",
        "if uzunlik1==uzunlik2:\n",
        "    print(\"Sozlar uzunligi teng\")\n",
        "else:\n",
        "  print(\"Teng emas\")\n"
      ],
      "metadata": {
        "id": "iZBt0uca3W3K"
      },
      "execution_count": null,
      "outputs": []
    },
    {
      "cell_type": "markdown",
      "source": [
        "6.Create a program that accepts a number and checks if it’s divisible by both 3 and 5"
      ],
      "metadata": {
        "id": "N0nQQfX74rR_"
      }
    },
    {
      "cell_type": "code",
      "source": [
        "son = float(input(\"Son kiriting: \"))\n",
        "\n",
        "if son % 3 == 0:\n",
        "    print(\"3ga bo'linadi\")\n",
        "if son % 5 == 0:\n",
        "    print(\"5ga bo'linadi\")\n",
        "if son % 3 != 0 and son % 5 != 0:\n",
        "    print(\"xato\")"
      ],
      "metadata": {
        "id": "2SRsvpwK41XX"
      },
      "execution_count": null,
      "outputs": []
    },
    {
      "cell_type": "markdown",
      "source": [
        "7.Write a program that checks if the sum of two numbers is greater than 50.8. Create a program that checks if a given number is between 10 and 20 (inclusive)"
      ],
      "metadata": {
        "id": "R4Qj1NxX5tbs"
      }
    },
    {
      "cell_type": "code",
      "source": [
        "son = float(input(\"Son kiriting:\"))\n",
        "\n",
        "if son > 50.8:\n",
        "    print(\"Katta\")\n",
        "\n",
        "if 10 <= son <= 20:\n",
        "    print(\"Bu son 10 va 20 oralig'ida\")\n"
      ],
      "metadata": {
        "id": "0AWzftLK40Bv"
      },
      "execution_count": null,
      "outputs": []
    }
  ]
}