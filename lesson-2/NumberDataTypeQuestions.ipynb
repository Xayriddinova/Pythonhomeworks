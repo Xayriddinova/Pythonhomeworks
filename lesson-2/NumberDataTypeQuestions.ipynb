{
  "nbformat": 4,
  "nbformat_minor": 0,
  "metadata": {
    "colab": {
      "provenance": []
    },
    "kernelspec": {
      "name": "python3",
      "display_name": "Python 3"
    },
    "language_info": {
      "name": "python"
    }
  },
  "cells": [
    {
      "cell_type": "markdown",
      "source": [
        "1.Create a program that takes a float number as input and rounds it to 2 decimal places."
      ],
      "metadata": {
        "id": "BLfcXiwNagYv"
      }
    },
    {
      "cell_type": "code",
      "source": [
        "son=float(input(\"o'nlik kasr kiriting:\"))\n",
        "yaxlitlangan_son=round(son,2)\n",
        "print(yaxlitlangan_son)"
      ],
      "metadata": {
        "id": "2kKC3T1dmuB7"
      },
      "execution_count": null,
      "outputs": []
    },
    {
      "cell_type": "markdown",
      "source": [
        "2. Write a Python file that asks for three numbers and outputs the largest and smallest."
      ],
      "metadata": {
        "id": "7oAYT63bh2Kl"
      }
    },
    {
      "cell_type": "code",
      "source": [
        "raqam1=float(input(\"1-sonni kiriting:\"))\n",
        "raqam2=float(input(\"2-sonni kiriting:\"))\n",
        "raqam3=float(input(\"3-sonni kiriting:\"))\n",
        "eng_katta_son=max(raqam1, raqam2,raqam3)\n",
        "eng_kichik_son=min(raqam1, raqam2,raqam3)\n",
        "print(\"eng katta son\",eng_katta_son )\n",
        "print(\"eng kichik son\",eng_kichik_son)"
      ],
      "metadata": {
        "id": "DN-jh4jzh8IQ"
      },
      "execution_count": null,
      "outputs": []
    },
    {
      "cell_type": "markdown",
      "source": [
        "3.Create a program that converts kilometers to meters and centimeters."
      ],
      "metadata": {
        "id": "szBb84gxmT34"
      }
    },
    {
      "cell_type": "code",
      "source": [
        "masofa=float(input(\"masofani kilometrda kiriting:\"))\n",
        "metr=masofa*1000\n",
        "centimetrs=masofa*100000\n",
        "print(metr)\n",
        "print(centimetrs)"
      ],
      "metadata": {
        "id": "108woWjInSOW"
      },
      "execution_count": null,
      "outputs": []
    },
    {
      "cell_type": "markdown",
      "source": [
        "4.Write a program that takes two numbers and prints out the result of integer division and theremainder."
      ],
      "metadata": {
        "id": "VsOWnOPjqLVx"
      }
    },
    {
      "cell_type": "code",
      "source": [
        "birinchi_son=float(input(\"1-sonni kiriting:\"))\n",
        "ikkinchi_son=float(input(\"2-sonni kiriting:\"))\n",
        "bolinma=birinchi_son//ikkinchi_son\n",
        "print(bolinma)\n",
        "\n"
      ],
      "metadata": {
        "id": "jZbMM21iqf27"
      },
      "execution_count": null,
      "outputs": []
    },
    {
      "cell_type": "markdown",
      "source": [
        "5.Make a program that converts a given Celsius temperature to Fahrenheit."
      ],
      "metadata": {
        "id": "G-PAL3Sm0uQ3"
      }
    },
    {
      "cell_type": "code",
      "source": [
        "harorat=float(input(\"haroratni  kiriting:\"))\n",
        "f_harorat=harorat*9/5+32\n",
        "print(f_harorat)\n"
      ],
      "metadata": {
        "id": "ErWCcNYQ04dC"
      },
      "execution_count": null,
      "outputs": []
    },
    {
      "cell_type": "markdown",
      "source": [
        "6.Create a program that accepts a number and returns the last digit of that number."
      ],
      "metadata": {
        "id": "AwTwRvXJ2Tib"
      }
    },
    {
      "cell_type": "code",
      "source": [
        "son=input(\"Son kiriting:\")\n",
        "oxirgi_raqam=son[-1]\n",
        "print(oxirgi_raqam)"
      ],
      "metadata": {
        "id": "8PNs7nLI2ex8"
      },
      "execution_count": null,
      "outputs": []
    },
    {
      "cell_type": "markdown",
      "source": [
        "7.Create a program that takes a number and checks if it’s even or not."
      ],
      "metadata": {
        "id": "oaK3BG_G7UUu"
      }
    },
    {
      "cell_type": "code",
      "source": [
        "son=float(input(\"Son kiriting:\"))\n",
        "    if son%2==0:\n",
        "    print(\"juft son\")\n",
        "    else:\n",
        "      print(\"Juft  son emas\")"
      ],
      "metadata": {
        "id": "xtnlQrJO7ViK"
      },
      "execution_count": null,
      "outputs": []
    },
    {
      "cell_type": "code",
      "source": [],
      "metadata": {
        "id": "oIyLgQKnmsUt"
      },
      "execution_count": null,
      "outputs": []
    }
  ]
}