{
  "nbformat": 4,
  "nbformat_minor": 0,
  "metadata": {
    "colab": {
      "provenance": []
    },
    "kernelspec": {
      "name": "python3",
      "display_name": "Python 3"
    },
    "language_info": {
      "name": "python"
    }
  },
  "cells": [
    {
      "cell_type": "code",
      "execution_count": null,
      "metadata": {
        "colab": {
          "base_uri": "https://localhost:8080/"
        },
        "id": "zcHe3Ekfd2ja",
        "outputId": "ff6adc5a-0de1-450a-fd6c-41bbd77e46c2"
      },
      "outputs": [
        {
          "output_type": "stream",
          "name": "stdout",
          "text": [
            "[1, 3]\n",
            "[1, 3, 4]\n",
            "[1, 3, 4, 1, 3]\n",
            "[1, 3, 4, 1, 3, 4]\n"
          ]
        }
      ],
      "source": [
        "list1 = [1, 1, 2]\n",
        "list2 = [2, 3, 4]\n",
        "natija=[]\n",
        "for a in list1:\n",
        "  if a not in list2:\n",
        "    natija.append(a)\n",
        "    for b in list2:\n",
        "      if b not in list1:\n",
        "        natija.append(b)\n",
        "        print(natija)"
      ]
    },
    {
      "cell_type": "markdown",
      "source": [
        "2."
      ],
      "metadata": {
        "id": "k8xbr-Ehgl20"
      }
    },
    {
      "cell_type": "code",
      "source": [
        "list1 = [1, 2, 3]\n",
        "list2 = [4, 5, 6]\n",
        "yangi_list=[]\n",
        "for a in list1:\n",
        "  if a not in list2:\n",
        "    yangi_list.append(a)\n",
        "    for b in list2:\n",
        "      if a not in list1:\n",
        "        yangi_list.append(b)\n",
        "        print(yangi_list)\n",
        "        print(yangi_list)\n"
      ],
      "metadata": {
        "id": "8a48fHsdgklM"
      },
      "execution_count": null,
      "outputs": []
    },
    {
      "cell_type": "markdown",
      "source": [
        "3.input:\n",
        "    list1 = [1, 1, 2, 3, 4, 2]\n",
        "    list2 = [1, 3, 4, 5]\n",
        "output: [2, 2, 5]"
      ],
      "metadata": {
        "id": "5MiiCzb3hfdQ"
      }
    },
    {
      "cell_type": "code",
      "source": [
        "list1 = [1, 1, 2, 3, 4, 2]\n",
        "list2 = [1, 3, 4, 5]\n",
        "yangi = []\n",
        "\n",
        "for a in list1:\n",
        "    if a in list2:\n",
        "        yangi.append(a)\n",
        "\n",
        "for b in list2:\n",
        "    if b in list1:\n",
        "        yangi.append(b)\n",
        "\n",
        "print(yangi)\n",
        "\n"
      ],
      "metadata": {
        "colab": {
          "base_uri": "https://localhost:8080/"
        },
        "id": "oULlFZIGhsHY",
        "outputId": "9a9cab30-445b-4c11-f16f-56610d980afe"
      },
      "execution_count": null,
      "outputs": [
        {
          "output_type": "stream",
          "name": "stdout",
          "text": [
            "[1, 1, 3, 4, 1, 3, 4]\n"
          ]
        }
      ]
    },
    {
      "cell_type": "markdown",
      "source": [
        "2."
      ],
      "metadata": {
        "id": "chgYjcHnjtlH"
      }
    },
    {
      "cell_type": "code",
      "source": [
        "son=float(input(\"Son kiriting:\"))\n",
        "for son in range(son):\n",
        "  print(son*son)"
      ],
      "metadata": {
        "id": "fp2B0Kw2jwVB"
      },
      "execution_count": null,
      "outputs": []
    },
    {
      "cell_type": "markdown",
      "source": [
        "3.txt nomli string saqlovchi o'zgaruvchi berilgan. txtdagi har uchinchi belgidan keyin pastgi chiziqcha (underscore) qo'yilsin. Agar belgi unli harf yoki orqasidan ostki chiziqcha qo'yilgan harf bo'lsa, ostki chiziqcha keyingi harfdan keyin qo'yilsin. Agar belgi satrdagi oxirgi belgi bo'lsa chiziqcha qo'yilmasin."
      ],
      "metadata": {
        "id": "yewZniLQPZYK"
      }
    },
    {
      "cell_type": "code",
      "source": [
        "txt = \"salomalik\"\n",
        "result = \"\"\n",
        "vowels = \"aeiou\"\n",
        "\n",
        "i = 0\n",
        "while i < len(txt):\n",
        "    current_char = txt[i]\n",
        "    result += current_char\n",
        "\n",
        "    if (i + 1) % 3 == 0 and i != len(txt) - 1:\n",
        "        if current_char.lower() in vowels or (len(result) >= 2 and result[-2] == \"_\"):\n",
        "            if i + 1 < len(txt):\n",
        "                result += txt[i + 1] + \"_\"\n",
        "                i += 1\n",
        "            else:\n",
        "                result += txt[i + 1]\n",
        "                i += 1\n",
        "        else:\n",
        "            result += \"_\"\n",
        "\n",
        "    i += 1\n",
        "\n",
        "print(result)\n"
      ],
      "metadata": {
        "id": "6O3nS3gpa_Nt"
      },
      "execution_count": null,
      "outputs": []
    },
    {
      "cell_type": "markdown",
      "source": [
        "5.Number Guessing Game Create a simple number guessing game.\n",
        "\n",
        "The computer randomly selects a number between 1 and 100.\n",
        "If the guess is high, print \"Too high!\".\n",
        "If the guess is low, print \"Too low!\".\n",
        "If they guess correctly, print \"You guessed it right!\" and exit the loop.\n",
        "The player has 10 attempts to guess it. If the player can not find the correct number in 10 attempts, print \"You lost. Want to play again? \".\n",
        "If the player types one of 'Y', 'YES', 'y', 'yes', 'ok' then start the game from the beginning."
      ],
      "metadata": {
        "id": "RWRTK8NEfxUm"
      }
    },
    {
      "cell_type": "code",
      "source": [
        "import random\n",
        "while True:\n",
        "randomson=random.randint(1, 100)\n",
        "urinishlar=10\n",
        "while urinishlar>0:\n",
        "  guess=str(input(1dan 100gacha son tahmin qiling:))\n",
        "  if guess>randomson:\n",
        "    print(\"too high\")\n",
        "elif guess<randomson:\n",
        "  print(:too low)\n",
        "  else:\n",
        "    print(\"you guessed it right\")\n",
        "    user_win=True\n",
        "  break\n",
        "urinishlar-=1\n",
        "if user_win:\n",
        "  break\n",
        "  else:\n",
        "    if qaytaurinish=str(input(\"You lost. Do you want to play again? if yes, type: \")).lower\n",
        "    if qaytaurinish not in ['yes']\n",
        "    print(\"Goodbye\")\n",
        "break"
      ],
      "metadata": {
        "id": "JwxJK3wIYzc7"
      },
      "execution_count": null,
      "outputs": []
    },
    {
      "cell_type": "markdown",
      "source": [
        "5. Password Checker Task: Create a simple password checker.\n",
        "\n",
        "Ask the user to enter a password.\n",
        "If the password is shorter than 8 characters, print \"Password is too short.\"\n",
        "If the password doesn’t contain at least one uppercase letter, print \"Password must contain an uppercase letter.\".\n",
        "If the password meets both criteria, print \"Password is strong."
      ],
      "metadata": {
        "id": "YvGbdJtJ2UIl"
      }
    },
    {
      "cell_type": "code",
      "source": [
        "password = input(\"Password kiriting:\")\n",
        "\n",
        "if len(password) < 4:\n",
        "    print(\"password is too short\")\n",
        "\n",
        "if not any(char.isupper() for char in password):\n",
        "    print(\"put at least one uppercase character\")\n",
        "else:\n",
        "  print(\"your password is strong\")\n"
      ],
      "metadata": {
        "id": "PaFfQSIP2av8"
      },
      "execution_count": null,
      "outputs": []
    },
    {
      "cell_type": "markdown",
      "source": [
        "6.6. Prime Numbers Task: Write a Python program that prints all prime numbers between 1 and 100.\n",
        "\n",
        "A prime number is a number greater than 1 that is not divisible by any number other than 1 and itself. Use nested loops to check divisibility."
      ],
      "metadata": {
        "id": "F9JoTooa-Lh-"
      }
    },
    {
      "cell_type": "code",
      "source": [
        "for number in range(1, 101):\n",
        "    tub = True\n",
        "\n",
        "    if number < 2:\n",
        "        tub = False\n",
        "\n",
        "    else:\n",
        "        for i in range(2, number):\n",
        "            if number % i == 0:\n",
        "                tub = False\n",
        "                break\n",
        "\n",
        "    if tub:\n",
        "        print(number)\n",
        "\n"
      ],
      "metadata": {
        "id": "KcREAqJL-UBi"
      },
      "execution_count": null,
      "outputs": []
    },
    {
      "cell_type": "markdown",
      "source": [
        "bonuschallenge Task: Create a simple text-based Rock, Paper, Scissors game where the player plays against the computer.\n",
        "\n",
        "The computer randomly chooses rock, paper, or scissors using random.choice().\n",
        "The player enters their choice.\n",
        "Display the winner and keep track of scores for the player and the computer.\n",
        "First to 5 points wins the match."
      ],
      "metadata": {
        "id": "-zlrZD7eFHQ8"
      }
    },
    {
      "cell_type": "code",
      "source": [
        "import random\n",
        "\n",
        "options = ['rock', 'paper', 'scissors']\n",
        "choice = input(\"optionlardan birini kiriting:\").lower()\n",
        "computer = random.choice(options)\n",
        "\n",
        "if computer == choice:\n",
        "    print(\"you win\")\n",
        "else:\n",
        "    print(\"try again\")\n"
      ],
      "metadata": {
        "id": "e9BM84F3FLA4"
      },
      "execution_count": null,
      "outputs": []
    },
    {
      "cell_type": "code",
      "source": [],
      "metadata": {
        "id": "osRVfnHsF-Dv"
      },
      "execution_count": null,
      "outputs": []
    }
  ]
}